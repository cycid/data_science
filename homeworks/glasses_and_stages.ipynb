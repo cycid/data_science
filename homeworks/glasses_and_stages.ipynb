{
 "cells": [
  {
   "cell_type": "markdown",
   "id": "d567117d",
   "metadata": {},
   "source": [
    "<h3>Отже маємо 3 стакани і 100 поверхів, написати алгоритм який буде шукати поверх з якого починають битися стакани</h3>"
   ]
  },
  {
   "cell_type": "markdown",
   "id": "31dfdaa3",
   "metadata": {},
   "source": [
    "<h4>Чому саме такий алгоритм: кожним стаканом ми можемо відсікати певну кількість варіантів, і потрібно \n",
    "    відсікти якомога більше варіантів двома стаканами, бо коли залишається один стакан ми змушені йти по кожному поверху почергово.\n",
    "    Перестрибувати не вийде бо якщо наприклад маючи 4 поверхи і один стакан, ми почнемо з першого, стакан не розбився, коли далі\n",
    "    на 3 поверсі він розібється немає відповіді чи стакан починає битися на 3 чи на 2 поверсі. Тому кожне побиття стакана мало \n",
    "    відсікти якомога більшу кількість поверхів. Почав знизу бо там ймовірність того що стакан побється нижча.\n",
    "    </h4>"
   ]
  },
  {
   "cell_type": "code",
   "execution_count": 9,
   "id": "cb1930c6",
   "metadata": {},
   "outputs": [],
   "source": [
    "import random\n",
    "import pandas as pd\n",
    "\n",
    "glass_quantity=3"
   ]
  },
  {
   "cell_type": "code",
   "execution_count": 4,
   "id": "1411c0a3",
   "metadata": {},
   "outputs": [],
   "source": [
    "def check(number, list_):    \n",
    "    if list_[number-1]==0:\n",
    "        return False\n",
    "    elif list_[number-1]==1:\n",
    "        return True\n",
    "    else:\n",
    "        raise 'Error'"
   ]
  },
  {
   "cell_type": "code",
   "execution_count": 10,
   "id": "76aef8f6",
   "metadata": {},
   "outputs": [],
   "source": [
    "def engine(coefficient, list_fl, glasses=glass_quantity):\n",
    "    global_item_ind=0\n",
    "    new_list=list_fl\n",
    "    iteration_number=0\n",
    "    while glasses>1 and len(new_list)>10:\n",
    "        iteration_number+=1\n",
    "        ind=int(coefficient*len(new_list))                \n",
    "        if check(ind,new_list)==True:\n",
    "            new_list=new_list[:ind-1]            \n",
    "            glasses-=1            \n",
    "        elif check(ind,new_list)==False:\n",
    "            global_item_ind+=ind            \n",
    "            new_list=new_list[ind:]            \n",
    "        else:\n",
    "            print(check(ind,list_))\n",
    "    \n",
    "    \n",
    "    #коли залишається менше 11 поверхів і 3 склянки\n",
    "    it_index=0\n",
    "    while glasses>1 and len(new_list)>2:\n",
    "        iteration_number+=1\n",
    "        #оскільки склянок багато то можна брати коефіцієнт 0,5 який відсіює найбільшу кількість чисел\n",
    "        ind=int(0.5*len(new_list))        \n",
    "        if check(ind, new_list)==True:\n",
    "            #перевіряємо умову чи індекс цифри не рівний 1\n",
    "            if ind-1==0:\n",
    "                return (ind+global_item_ind), iteration_number\n",
    "            new_list=new_list[:ind-1]            \n",
    "            glasses-=1\n",
    "        elif check(ind,new_list)==False:\n",
    "            global_item_ind+=ind            \n",
    "            new_list=new_list[ind:]            \n",
    "        else:\n",
    "            print(check(ind,list_))        \n",
    "    item_index=0\n",
    "    #умова якщо скинуло сюди з одним нулем, а попередній побився\n",
    "    if len(new_list)==1 and new_list[0]==0:\n",
    "        iteration_number+=1\n",
    "        return (2+global_item_ind), iteration_number\n",
    "    for i in new_list:        \n",
    "        iteration_number+=1        \n",
    "        item_index+=1\n",
    "        if i==1:            \n",
    "            return (item_index+global_item_ind), iteration_number        \n",
    "    return (item_index+global_item_ind+1), iteration_number"
   ]
  },
  {
   "cell_type": "markdown",
   "id": "caf60fb9",
   "metadata": {},
   "source": [
    "<h4>Найращий варіант вийшов коли брати 0,33 від загальної висоти поверхів, ймовірність що стакан побється нижча, а якщо побється\n",
    "то відсікаємо 2/3 поверхів, і той жеж аглоритм продовжуємо коли маємо 2 стакани</h4>"
   ]
  },
  {
   "cell_type": "code",
   "execution_count": 15,
   "id": "6ad844a0",
   "metadata": {},
   "outputs": [
    {
     "name": "stdout",
     "output_type": "stream",
     "text": [
      "11\n"
     ]
    }
   ],
   "source": [
    "iter_values=[]\n",
    "number_values=[]\n",
    "for n in range (1000):    \n",
    "    number=random.randint(1,100)    \n",
    "    list_of_floors=[0 if x<number-1 else 1 for x in range(100)]\n",
    "    coefficient=0.33\n",
    "    result, iterations = engine(coefficient,list_of_floors)\n",
    "    iter_values.append(iterations)\n",
    "    number_values.append(result)\n",
    "    #print(result, '\\n iter number=='+str(iterations))    \n",
    "    assert result == number\n",
    "print(max(iter_values))"
   ]
  },
  {
   "cell_type": "code",
   "execution_count": 18,
   "id": "84026bcc",
   "metadata": {},
   "outputs": [
    {
     "data": {
      "text/html": [
       "<div>\n",
       "<style scoped>\n",
       "    .dataframe tbody tr th:only-of-type {\n",
       "        vertical-align: middle;\n",
       "    }\n",
       "\n",
       "    .dataframe tbody tr th {\n",
       "        vertical-align: top;\n",
       "    }\n",
       "\n",
       "    .dataframe thead th {\n",
       "        text-align: right;\n",
       "    }\n",
       "</style>\n",
       "<table border=\"1\" class=\"dataframe\">\n",
       "  <thead>\n",
       "    <tr style=\"text-align: right;\">\n",
       "      <th></th>\n",
       "      <th>iter quantity</th>\n",
       "      <th>number values</th>\n",
       "    </tr>\n",
       "  </thead>\n",
       "  <tbody>\n",
       "    <tr>\n",
       "      <th>0</th>\n",
       "      <td>7</td>\n",
       "      <td>23</td>\n",
       "    </tr>\n",
       "    <tr>\n",
       "      <th>1</th>\n",
       "      <td>8</td>\n",
       "      <td>83</td>\n",
       "    </tr>\n",
       "    <tr>\n",
       "      <th>2</th>\n",
       "      <td>9</td>\n",
       "      <td>89</td>\n",
       "    </tr>\n",
       "    <tr>\n",
       "      <th>3</th>\n",
       "      <td>9</td>\n",
       "      <td>93</td>\n",
       "    </tr>\n",
       "    <tr>\n",
       "      <th>4</th>\n",
       "      <td>7</td>\n",
       "      <td>37</td>\n",
       "    </tr>\n",
       "  </tbody>\n",
       "</table>\n",
       "</div>"
      ],
      "text/plain": [
       "   iter quantity  number values\n",
       "0              7             23\n",
       "1              8             83\n",
       "2              9             89\n",
       "3              9             93\n",
       "4              7             37"
      ]
     },
     "execution_count": 18,
     "metadata": {},
     "output_type": "execute_result"
    }
   ],
   "source": [
    "#дані по кількості ітерація\n",
    "to_frame=list(zip(iter_values,number_values))\n",
    "data=pd.DataFrame(to_frame, columns=['iter quantity', 'number values'])\n",
    "data.head()"
   ]
  },
  {
   "cell_type": "code",
   "execution_count": 19,
   "id": "4fcd31f5",
   "metadata": {},
   "outputs": [
    {
     "data": {
      "text/plain": [
       "count    1000.000000\n",
       "mean        7.710000\n",
       "std         1.700233\n",
       "min         3.000000\n",
       "25%         7.000000\n",
       "50%         8.000000\n",
       "75%         9.000000\n",
       "max        11.000000\n",
       "Name: iter quantity, dtype: float64"
      ]
     },
     "execution_count": 19,
     "metadata": {},
     "output_type": "execute_result"
    }
   ],
   "source": [
    "data['iter quantity'].describe()"
   ]
  },
  {
   "cell_type": "markdown",
   "id": "94dad13b",
   "metadata": {},
   "source": [
    "<h3>Максимальна кількість ітерацій щоб знайти поверх - 11</h3>"
   ]
  },
  {
   "cell_type": "code",
   "execution_count": null,
   "id": "5bf5c237",
   "metadata": {},
   "outputs": [],
   "source": []
  }
 ],
 "metadata": {
  "kernelspec": {
   "display_name": "Python 3 (ipykernel)",
   "language": "python",
   "name": "python3"
  },
  "language_info": {
   "codemirror_mode": {
    "name": "ipython",
    "version": 3
   },
   "file_extension": ".py",
   "mimetype": "text/x-python",
   "name": "python",
   "nbconvert_exporter": "python",
   "pygments_lexer": "ipython3",
   "version": "3.9.13"
  }
 },
 "nbformat": 4,
 "nbformat_minor": 5
}
