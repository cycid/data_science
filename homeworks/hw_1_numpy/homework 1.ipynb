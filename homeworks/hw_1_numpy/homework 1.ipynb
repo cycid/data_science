{
 "cells": [
  {
   "cell_type": "markdown",
   "id": "962c3aeb",
   "metadata": {},
   "source": [
    "<h1> Task2 </h1>\n",
    "\n",
    "There are two whole numbers:\n",
    "1 < a,b <100\n",
    "\n",
    "One scientist(\"Sum\") get provided with sum of numbers,\n",
    "another  (\"Prod\") get provided with product of numbers. \n",
    "Both scientists know that numbers 1 < a,b <100.\n",
    "\n",
    "Determine the numbers being based on the following dialog: \n",
    "    Prod: I don't know the numbers;\n",
    "    Sum: I know it;\n",
    "    Prod: then I know the numbers; \n",
    "    Sum: then I know the numbers too."
   ]
  },
  {
   "cell_type": "markdown",
   "id": "5b122ce4",
   "metadata": {},
   "source": [
    "<br><p style=\"font-size:150%\"><strong> Визначаємо всі можливі добутки і множники в \"Prod\", за умови що науковець незнає чисел, відповідно множників 2 пари і більше</strong></p>"
   ]
  },
  {
   "cell_type": "code",
   "execution_count": 17,
   "id": "226f1cab",
   "metadata": {},
   "outputs": [],
   "source": [
    "#список ймовірних чисел які потрібно знайти\n",
    "output_gen=[i for i in range(2,100)]\n",
    "\n",
    "def define_prod_values():\n",
    "    list_of_prod=[]\n",
    "    list_of_numbers_prod=[]\n",
    "    for n in range(2,9802):\n",
    "        count=0\n",
    "        list_of_n=[]\n",
    "        for number in output_gen:\n",
    "            if n==number:\n",
    "                break\n",
    "            if n%number==0:\n",
    "                count+=1\n",
    "                list_of_n.append((number, int(n/number)))\n",
    "        if count>=4:\n",
    "            list_of_numbers_prod.append((list_of_n, n))\n",
    "            list_of_prod.append(n)\n",
    "    return list_of_numbers_prod, list_of_prod\n",
    "#print(define_prod_values())"
   ]
  },
  {
   "cell_type": "markdown",
   "id": "760348ff",
   "metadata": {},
   "source": [
    "<br><p style=\"font-size:150%\"><strong>Створюємо список можливих значень \"Sum\" і можливих доданків в форматі Tuple([list of tuples], Sum), і застосовуємо умову 2(підходять тільки ті суми, в яких добуток кожної пари доданків має не менше двох пар множників)</strong></p>"
   ]
  },
  {
   "cell_type": "code",
   "execution_count": 18,
   "id": "5aabe49b",
   "metadata": {},
   "outputs": [],
   "source": [
    "#функція що генерує ймовірні доданки і суми\n",
    "def numbers_sum():\n",
    "    list_of_sum=[]\n",
    "    list_of_numbers_sum=[]\n",
    "    for n in range(2,198):\n",
    "        count=0\n",
    "        list_of_n=[]\n",
    "        for number in output_gen:\n",
    "            if n==number:\n",
    "                break\n",
    "            result_value=n-number\n",
    "            if result_value==1:\n",
    "                break\n",
    "            count+=1\n",
    "            list_of_n.append((number, result_value))\n",
    "        if count>=4:\n",
    "            list_of_numbers_sum.append((list_of_n, n))\n",
    "            list_of_sum.append(n)\n",
    "    return list_of_numbers_sum\n",
    "                  \n",
    "#print(numbers_sum())\n",
    "\n",
    "\n",
    "def difference(values=numbers_sum(), from_prod=define_prod_values()[1]):\n",
    "    list_different_values=[]\n",
    "    for i in values:\n",
    "        counter=0\n",
    "        for m in i[0]:\n",
    "            product=m[0]*m[1]\n",
    "            if product in from_prod:\n",
    "                counter+=1                \n",
    "            if counter==(len(i[0])):\n",
    "                list_different_values.append(i[1])\n",
    "    return list_different_values\n",
    "\n",
    "#print(difference())"
   ]
  },
  {
   "cell_type": "markdown",
   "id": "837fde69",
   "metadata": {},
   "source": [
    "<br><p style=\"font-size:150%\"><strong>Product може сказати що він знає числа тільки за умови що лише одна пара його множників в сумі буде серед результату 2 умови, тому залишаємо тільки ті добутки і числа які задовільняють дану умову</strong></p>"
   ]
  },
  {
   "cell_type": "code",
   "execution_count": 19,
   "id": "739c8151",
   "metadata": {},
   "outputs": [],
   "source": [
    "def find_numbers(values=define_prod_values()[0], step_2_sum=difference()):\n",
    "    step_3_prod=[]\n",
    "    for n in values:\n",
    "        counter=0\n",
    "        poss_numbers=()\n",
    "        for m in n[0]:\n",
    "            sum=m[0]+m[1]\n",
    "            if sum in step_2_sum:\n",
    "                counter+=1\n",
    "                poss_numbers=(m[0], m[1])                \n",
    "        if counter==2:\n",
    "            step_3_prod.append((poss_numbers,n[1]))            \n",
    "    return step_3_prod\n",
    "#print(find_numbers())"
   ]
  },
  {
   "cell_type": "markdown",
   "id": "78d6dcd6",
   "metadata": {},
   "source": [
    "<br><p style=\"font-size:150%\"><strong>Sum може стверджувати що він знає які числа тільки в тому випадку якщо з суми пар множників що залишилися тільки один результат буде відповідати числу що є в науковця Sum</strong></p>"
   ]
  },
  {
   "cell_type": "code",
   "execution_count": 20,
   "id": "c73ffbde",
   "metadata": {},
   "outputs": [
    {
     "name": "stdout",
     "output_type": "stream",
     "text": [
      "the answer is [(13, 4)]\n"
     ]
    }
   ],
   "source": [
    "def task_answer(new_lisss=find_numbers(), sum_seq=difference()):\n",
    "    zero_list=[0 for x in range(len(sum_seq))]\n",
    "    diction={sum_seq[i]:zero_list[i] for i in range(len(sum_seq))}\n",
    "    for n in new_lisss:\n",
    "        sum=n[0][0]+n[0][1]\n",
    "        diction[sum]+=1\n",
    "    value={x for x in diction if diction[x]==1}\n",
    "    ans=[i[0] for i in new_lisss if i[0][0]+i[0][1]==(list(value))[0]]\n",
    "    return ans\n",
    "print(f'the answer is {task_answer()}')\n"
   ]
  },
  {
   "cell_type": "markdown",
   "id": "90180eed",
   "metadata": {},
   "source": [
    "<br><h1>Task 1</h1>\n",
    "<br><p>Knowing that pi is area of circle of 𝑟=1\n",
    "r=1 which computed S=πr2, estimate the 𝜋\n",
    "value with the help of distribution.</p>"
   ]
  },
  {
   "cell_type": "markdown",
   "id": "4ca002b1",
   "metadata": {},
   "source": [
    "<p style=\"font-size:120%\">Згенеруємо певну кількість точок в квадраті використовуючи \"Uniform distribution\". Ймовірність того що точка попаде в коло буде частка: площа_кола/площа квадрата. S(кола)=pi*r**2, S(квадрату)=(2*r)**2. З цього виходить pi=(4*точки_в_колі)/точки_в_квадраті</p>"
   ]
  },
  {
   "cell_type": "code",
   "execution_count": 22,
   "id": "a9fa419c",
   "metadata": {},
   "outputs": [
    {
     "name": "stdout",
     "output_type": "stream",
     "text": [
      "pi is equal 3.248\n"
     ]
    }
   ],
   "source": [
    "import numpy as np\n",
    "def calculate(points_amount=1000):\n",
    "    matrix=np.random.uniform(-1.00,1.00,(points_amount,2))\n",
    "    #знаходимо відстань до кожної точки від центру кола(0,0), якщо відстань менше одиниці - точка в колі\n",
    "    norm_vector=np.linalg.norm(matrix, axis=1)\n",
    "    in_circle=np.where(norm_vector<1,1,0).sum()\n",
    "    pi=(4*in_circle)/points_amount\n",
    "    return pi\n",
    "\n",
    "print(f'pi is equal {calculate()}')"
   ]
  },
  {
   "cell_type": "code",
   "execution_count": null,
   "id": "2e22db52",
   "metadata": {},
   "outputs": [],
   "source": []
  }
 ],
 "metadata": {
  "kernelspec": {
   "display_name": "Python 3 (ipykernel)",
   "language": "python",
   "name": "python3"
  },
  "language_info": {
   "codemirror_mode": {
    "name": "ipython",
    "version": 3
   },
   "file_extension": ".py",
   "mimetype": "text/x-python",
   "name": "python",
   "nbconvert_exporter": "python",
   "pygments_lexer": "ipython3",
   "version": "3.9.13"
  }
 },
 "nbformat": 4,
 "nbformat_minor": 5
}
